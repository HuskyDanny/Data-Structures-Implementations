{
 "cells": [
  {
   "cell_type": "code",
   "execution_count": 260,
   "metadata": {},
   "outputs": [],
   "source": [
    "class minHeap:\n",
    "    def __init__(self):\n",
    "        self.heap = []\n",
    "\n",
    "\n",
    "    def findParent(self, index):\n",
    "        return (index-1)//2\n",
    "\n",
    "    def findChild(self,index):\n",
    "        return index * 2 + 1, index * 2 + 2\n",
    "\n",
    "    def percolateUp(self, index):\n",
    "        parent = self.findParent(index)\n",
    "        if self.heap[parent] <= self.heap[index] or parent < 0: return\n",
    "        if self.heap[parent] > self.heap[index]:\n",
    "            self.swap(parent, index)\n",
    "        self.percolateUp(parent)\n",
    "\n",
    "    def swap(self, indexi, indexj):\n",
    "        temp = self.heap[indexi]\n",
    "        self.heap[indexi] = self.heap[indexj]\n",
    "        self.heap[indexj] = temp\n",
    "    \n",
    "    def add(self, value):\n",
    "        self.heap.append(value)\n",
    "        self.percolateUp(len(self.heap)-1)\n",
    "\n",
    "    \n",
    "    def deleteMin(self):\n",
    "        result = self.heap[0]\n",
    "        self.heap[0] = self.heap[-1]\n",
    "        self.heap = self.heap[:-1]\n",
    "        self.percolateDown(0)\n",
    "        return result\n",
    "        \n",
    "    def percolateDown(self, index):\n",
    "        left,right = self.findChild(index)\n",
    "        next_index = -1\n",
    "        if left >= len(self.heap) or right >= len(self.heap): return\n",
    "        print(left,right,len(self.heap))\n",
    "        if self.heap[left] > self.heap[right]:\n",
    "            next_index = right\n",
    "        else:\n",
    "            next_index = left\n",
    "        if next_index != -1:\n",
    "            self.swap(index, next_index)\n",
    "        self.percolateDown(next_index)\n",
    "            \n",
    "            \n",
    "    "
   ]
  },
  {
   "cell_type": "code",
   "execution_count": 267,
   "metadata": {},
   "outputs": [],
   "source": [
    "c = minHeap()"
   ]
  },
  {
   "cell_type": "code",
   "execution_count": 356,
   "metadata": {},
   "outputs": [],
   "source": [
    "import random\n",
    "for i in range(15):\n",
    "    c.add(random.randint(0,100))"
   ]
  },
  {
   "cell_type": "code",
   "execution_count": 357,
   "metadata": {
    "scrolled": false
   },
   "outputs": [
    {
     "data": {
      "text/plain": [
       "[2,\n",
       " 4,\n",
       " 3,\n",
       " 7,\n",
       " 13,\n",
       " 5,\n",
       " 5,\n",
       " 29,\n",
       " 12,\n",
       " 46,\n",
       " 16,\n",
       " 31,\n",
       " 14,\n",
       " 17,\n",
       " 15,\n",
       " 37,\n",
       " 34,\n",
       " 25,\n",
       " 18,\n",
       " 59,\n",
       " 72,\n",
       " 18,\n",
       " 80,\n",
       " 63,\n",
       " 40,\n",
       " 52,\n",
       " 18,\n",
       " 42,\n",
       " 37,\n",
       " 16,\n",
       " 41,\n",
       " 64,\n",
       " 61,\n",
       " 64,\n",
       " 45,\n",
       " 51,\n",
       " 29,\n",
       " 30,\n",
       " 60,\n",
       " 95,\n",
       " 85,\n",
       " 88,\n",
       " 88,\n",
       " 99,\n",
       " 32,\n",
       " 83,\n",
       " 91,\n",
       " 168,\n",
       " 82,\n",
       " 99,\n",
       " 55,\n",
       " 99,\n",
       " 65,\n",
       " 77,\n",
       " 72,\n",
       " 125,\n",
       " 96,\n",
       " 87,\n",
       " 62,\n",
       " 98,\n",
       " 71,\n",
       " 51,\n",
       " 51,\n",
       " 125,\n",
       " 66,\n",
       " 99,\n",
       " 83,\n",
       " 90,\n",
       " 67,\n",
       " 88,\n",
       " 71,\n",
       " 92,\n",
       " 66,\n",
       " 80,\n",
       " 66,\n",
       " 73]"
      ]
     },
     "execution_count": 357,
     "metadata": {},
     "output_type": "execute_result"
    }
   ],
   "source": [
    "c.add(18)\n",
    "c.heap"
   ]
  },
  {
   "cell_type": "code",
   "execution_count": 379,
   "metadata": {},
   "outputs": [
    {
     "name": "stdout",
     "output_type": "stream",
     "text": [
      "1 2 54\n",
      "3 4 54\n",
      "7 8 54\n",
      "15 16 54\n",
      "33 34 54\n"
     ]
    },
    {
     "data": {
      "text/plain": [
       "[34,\n",
       " 37,\n",
       " 37,\n",
       " 45,\n",
       " 46,\n",
       " 40,\n",
       " 41,\n",
       " 51,\n",
       " 51,\n",
       " 59,\n",
       " 71,\n",
       " 55,\n",
       " 52,\n",
       " 42,\n",
       " 51,\n",
       " 61,\n",
       " 64,\n",
       " 83,\n",
       " 60,\n",
       " 85,\n",
       " 72,\n",
       " 88,\n",
       " 80,\n",
       " 63,\n",
       " 66,\n",
       " 65,\n",
       " 72,\n",
       " 96,\n",
       " 62,\n",
       " 71,\n",
       " 99,\n",
       " 64,\n",
       " 90,\n",
       " 73,\n",
       " 125,\n",
       " 98,\n",
       " 92,\n",
       " 66,\n",
       " 80,\n",
       " 95,\n",
       " 87,\n",
       " 88,\n",
       " 88,\n",
       " 99,\n",
       " 125,\n",
       " 83,\n",
       " 91,\n",
       " 168,\n",
       " 82,\n",
       " 99,\n",
       " 67,\n",
       " 99,\n",
       " 66,\n",
       " 77]"
      ]
     },
     "execution_count": 379,
     "metadata": {},
     "output_type": "execute_result"
    }
   ],
   "source": [
    "c.deleteMin()\n",
    "c.heap"
   ]
  },
  {
   "cell_type": "code",
   "execution_count": 336,
   "metadata": {
    "collapsed": true
   },
   "outputs": [],
   "source": [
    "c.add(125)\n"
   ]
  },
  {
   "cell_type": "code",
   "execution_count": null,
   "metadata": {
    "collapsed": true
   },
   "outputs": [],
   "source": []
  }
 ],
 "metadata": {
  "kernelspec": {
   "display_name": "Python [conda env:anaconda]",
   "language": "python",
   "name": "conda-env-anaconda-py"
  },
  "language_info": {
   "codemirror_mode": {
    "name": "ipython",
    "version": 3
   },
   "file_extension": ".py",
   "mimetype": "text/x-python",
   "name": "python",
   "nbconvert_exporter": "python",
   "pygments_lexer": "ipython3",
   "version": "3.5.3"
  }
 },
 "nbformat": 4,
 "nbformat_minor": 2
}
